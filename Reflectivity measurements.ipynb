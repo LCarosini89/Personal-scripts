{
 "cells": [
  {
   "cell_type": "markdown",
   "metadata": {},
   "source": [
    "## Reflectivity vs Voltage"
   ]
  },
  {
   "cell_type": "code",
   "execution_count": 1,
   "metadata": {},
   "outputs": [],
   "source": [
    "import numpy as np\n",
    "import matplotlib.pyplot as plt\n",
    "import matplotlib as mpl\n",
    "import pandas as pd\n",
    "import math\n",
    "import itertools\n",
    "import csv\n",
    "import os\n",
    "import glob\n",
    "import math\n",
    "from operator import add\n",
    "from mpl_toolkits.axes_grid1.inset_locator import zoomed_inset_axes\n",
    "from mpl_toolkits.axes_grid1.inset_locator import mark_inset"
   ]
  },
  {
   "cell_type": "code",
   "execution_count": 15,
   "metadata": {},
   "outputs": [],
   "source": [
    "# importing reflectivities \n",
    "x= np.linspace(-1, 1, num=21)\n",
    "\n",
    "# y= np.array([0, 0.05, 0.012, 0.044, 0.061, 0.092, 0.152, 0.207,        #per V0=1.3\n",
    "#                   0.283, 0.401, 0.457, 0.56, 0.594, 0.648, 0.684, 0.745, 0.784, 0.838, 0.821, 0.873, 0.864])\n",
    "\n",
    "# y= np.array([0.011, 0.0012, 0.0021, 0.0108, 0.0137, 0.0201, 0.038, 0.048, 0.081,          #per V0=0.65\n",
    "#                   0.135, 0.155, 0.189, 0.211, 0.237, 0.260, 0.306, 0.346, 0.388, 0.441, 0.489, 0.435])\n",
    "\n",
    "y= np.array([0.01, 0.01, 0.04, 0.08, 0.11, 0.15, 0.20, 0.29, 0.38,          #Theo config. per V0=1.3 \n",
    "                 0.49, 0.62, 0.64, 0.74, 0.74, 0.82, 0.89, 0.90, 0.92, 0.97, 0.95, 0.95])\n",
    "\n",
    "# calculate polynomial\n",
    "z = np.polyfit(x, y, 4)\n",
    "f = np.poly1d(z)\n",
    "\n",
    "# definition of the fit curve\n",
    "x_new = np.linspace(x[0], x[-1], 50)\n",
    "y_new = f(x_new)                      #f() is now our reflectivity function\n",
    "\n",
    "#plot\n",
    "plt.plot(x, y,'yD', label='Measured values')\n",
    "plt.plot(x_new, y_new, '--k', label='Polynomial fit')\n",
    "# plt.grid()\n",
    "plt.xlabel('Voltage ($V/V_{\\pi}$)')\n",
    "plt.ylabel(r'Transmittance $\\mathcal{T}$')\n",
    "# plt.title('EOM transmittivities')\n",
    "plt.axis([-1, 1 , 0, 1]) # [xstart, xend, ystart, yend]\n",
    "plt.legend(loc='upper left', numpoints = 1, prop={'size': 10})\n",
    "plt.savefig(\"Reflectivity measurements.pdf\", dpi=40)\n",
    "plt.show()"
   ]
  },
  {
   "cell_type": "code",
   "execution_count": 19,
   "metadata": {},
   "outputs": [
    {
     "data": {
      "text/plain": [
       "0.7751164317054748"
      ]
     },
     "execution_count": 19,
     "metadata": {},
     "output_type": "execute_result"
    }
   ],
   "source": [
    "f(0.3)"
   ]
  },
  {
   "cell_type": "markdown",
   "metadata": {},
   "source": [
    "## Manipolazione"
   ]
  },
  {
   "cell_type": "code",
   "execution_count": 9,
   "metadata": {},
   "outputs": [],
   "source": [
    "# open the file\n",
    "file = open(r\"C:\\\\Users\\\\PC\\\\Desktop\\\\Ph.D\\\\Loop experiment\\\\Results\\\\HOM\\\\HOM.txt\", 'r')\n",
    "file_string = np.array([row.strip().split(\",\") for row in file][1:], dtype=float)\n",
    "times_array = file_string[:, 0] + 330\n",
    "counts_array = file_string[:, 1]\n",
    "\n",
    "\n",
    "# counts=list(counts_array)\n",
    "# times=list(times_array)\n",
    "\n",
    "\n",
    "# # for i in range(len(lista)):\n",
    "# #     counts.insert(0,lista[i])\n",
    "# #     times.append(lista[i])\n",
    "\n",
    "# times_new = np.arange(-599375,1249375,625)   \n",
    "# print(len(counts))\n",
    "# print(len(times_new))\n",
    "\n",
    "# file = open(\"Hist.txt\", \"w\")\n",
    "# for index in range(len(counts)):\n",
    "#     file.write(str(int(times_new[index])) + '\\t' + str(int(counts[index])) + \"\\n\")\n",
    "file.close()"
   ]
  },
  {
   "cell_type": "markdown",
   "metadata": {},
   "source": [
    "## Profiles plots"
   ]
  },
  {
   "cell_type": "code",
   "execution_count": 10,
   "metadata": {},
   "outputs": [
    {
     "name": "stderr",
     "output_type": "stream",
     "text": [
      "<ipython-input-10-858c1912348f>:44: MatplotlibDeprecationWarning: savefig() got unexpected keyword argument \"trasparent\" which is no longer supported as of 3.3 and will become an error two minor releases later\n",
      "  plt.savefig(\"g2_supp.png\", trasparent=True, dpi=400)\n"
     ]
    }
   ],
   "source": [
    "# define the parameters\n",
    "\n",
    "# int_win = 2000  # in ps\n",
    "# central_pos = -100  # in ps\n",
    "# binwidth = 50  # in ps\n",
    "# rep_rate = 100_000  # in ps\n",
    "\n",
    "%matplotlib qt5 \n",
    "plt.figure(figsize=(30,20))\n",
    "fig1, ax1 = plt.subplots()\n",
    "# ax1.plot(times_array/1000, counts_array, color='royalblue')\n",
    "ax1.plot(times_array/1000, counts_array, color='magenta')\n",
    "plt.ylabel(\"Coincidences\")\n",
    "plt.xlabel(r'$\\Delta t$ (ns)')\n",
    "ax1.set_xlim(xmin=-45)\n",
    "ax1.set_xlim(xmax=45)\n",
    "# ax1.set_ylim(ymin=-10)\n",
    "# ax1.set_ylim(ymax=100)\n",
    "ax1.set_xticks(np.arange(-37.5, 38, 12.5))\n",
    "# ax1.set_yticks(np.arange(0, 101, 50))\n",
    "axins1 = zoomed_inset_axes(ax1, zoom = 10, loc=9)\n",
    "axins1.plot(times_array/1000, counts_array, color='magenta')\n",
    "# axins1.plot(y,datapts.T,'mo')\n",
    "\n",
    "# SPECIFY THE LIMITS\n",
    "x1, x2, y1, y2 = -2,2,0,550 \n",
    "axins1.set_xlim(x1, x2)\n",
    "axins1.set_ylim(y1, y2)\n",
    "# #ax1.set_xticks(np.arange(198, 203, 2))\n",
    "# # ax1.set_yticks(np.arange(0, 101, 50))\n",
    "axins1.set_box_aspect(1)\n",
    "\n",
    "\n",
    "\n",
    "\n",
    "        \n",
    "# IF SET TO TRUE, TICKS ALONG \n",
    "# THE TWO AXIS WILL BE VISIBLE\n",
    "plt.xticks(visible=True)\n",
    "plt.yticks(visible=True)\n",
    "\n",
    "mark_inset(ax1, axins1, loc1=3, loc2=4, fc=\"none\", ec=\"0.7\")\n",
    "\n",
    "plt.savefig(\"g2_supp.png\", trasparent=True, dpi=400)\n",
    "plt.show()"
   ]
  },
  {
   "cell_type": "code",
   "execution_count": null,
   "metadata": {},
   "outputs": [],
   "source": []
  }
 ],
 "metadata": {
  "kernelspec": {
   "display_name": "Python 3",
   "language": "python",
   "name": "python3"
  },
  "language_info": {
   "codemirror_mode": {
    "name": "ipython",
    "version": 3
   },
   "file_extension": ".py",
   "mimetype": "text/x-python",
   "name": "python",
   "nbconvert_exporter": "python",
   "pygments_lexer": "ipython3",
   "version": "3.8.5"
  }
 },
 "nbformat": 4,
 "nbformat_minor": 4
}
