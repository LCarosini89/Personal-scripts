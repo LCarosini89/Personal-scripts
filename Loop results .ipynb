{
 "cells": [
  {
   "cell_type": "markdown",
   "metadata": {},
   "source": [
    " # <font color='red'> Loop results</font>"
   ]
  },
  {
   "cell_type": "code",
   "execution_count": 2,
   "metadata": {},
   "outputs": [],
   "source": [
    "import numpy as np\n",
    "import matplotlib.pyplot as plt\n",
    "import matplotlib as mpl\n",
    "import matplotlib.ticker as mticker\n",
    "import pandas as pd\n",
    "import itertools\n",
    "import csv\n",
    "import os\n",
    "import glob\n",
    "import math\n",
    "import random\n",
    "import scipy\n",
    "from operator import add\n",
    "from scipy import stats\n",
    "from numpy import pi,sqrt,exp"
   ]
  },
  {
   "cell_type": "code",
   "execution_count": 2,
   "metadata": {},
   "outputs": [],
   "source": [
    "#rimuovo le linee vuote\n",
    "\n",
    "with open(\"singles.csv\", newline='') as in_file:\n",
    "    with open(\"singles-new.csv\", 'w', newline='') as out_file:\n",
    "        writer = csv.writer(out_file)\n",
    "        for row in csv.reader(in_file):\n",
    "            if row:\n",
    "                writer.writerow(row)"
   ]
  },
  {
   "cell_type": "code",
   "execution_count": 10,
   "metadata": {},
   "outputs": [
    {
     "name": "stdout",
     "output_type": "stream",
     "text": [
      "20\n",
      "[56, 52, 50, 49, 44, 42, 41, 38, 37, 35, 28, 26, 25, 22, 21, 19, 14, 13, 11, 7]\n"
     ]
    }
   ],
   "source": [
    "# genero tutte le combo con itertools\n",
    "\n",
    "n=3 \n",
    "m=6\n",
    "N = math.comb(m,n)   #coefficiente binomiale di m ed n\n",
    "print(N)\n",
    "\n",
    "combos_indexes = range(1,m+1)\n",
    "combos = list(itertools.combinations(combos_indexes,n))\n",
    "combos_printable=list(map(list,combos)) \n",
    "\n",
    "\n",
    "\n",
    "# converto ciascuna combo in una lista di 1 e 0 e poi nel corrispondente intero\n",
    "\n",
    "integer_combos = []\n",
    "\n",
    "for combo in combos:          # ho fatto un casino (verificare)\n",
    "    temp1= [0] * m\n",
    "    \n",
    "    for j in combo:        \n",
    "        temp1[j-1]=1\n",
    "        \n",
    "    temp2_combo=(temp1)  \n",
    "    temp3_combo= (bin(int(''.join(map(str, temp2_combo)), 2)))\n",
    "    integer_combos.append(int(temp3_combo,2)) \n",
    "\n",
    "print(integer_combos)"
   ]
  },
  {
   "cell_type": "markdown",
   "metadata": {},
   "source": [
    "## Reading data from csv files - Mirco\n"
   ]
  },
  {
   "cell_type": "code",
   "execution_count": 11,
   "metadata": {
    "scrolled": true
   },
   "outputs": [
    {
     "ename": "ValueError",
     "evalue": "invalid literal for int() with base 2: '123'",
     "output_type": "error",
     "traceback": [
      "\u001b[1;31m---------------------------------------------------------------------------\u001b[0m",
      "\u001b[1;31mValueError\u001b[0m                                Traceback (most recent call last)",
      "\u001b[1;32m<ipython-input-11-592e5c850fc0>\u001b[0m in \u001b[0;36m<module>\u001b[1;34m\u001b[0m\n\u001b[0;32m     34\u001b[0m         \u001b[0mtempin\u001b[0m\u001b[1;33m.\u001b[0m\u001b[0mappend\u001b[0m\u001b[1;33m(\u001b[0m\u001b[0mnew_row\u001b[0m\u001b[1;33m[\u001b[0m\u001b[1;36m0\u001b[0m\u001b[1;33m]\u001b[0m\u001b[1;33m)\u001b[0m\u001b[1;33m\u001b[0m\u001b[1;33m\u001b[0m\u001b[0m\n\u001b[0;32m     35\u001b[0m         \u001b[0mnew_row\u001b[0m\u001b[1;33m.\u001b[0m\u001b[0mpop\u001b[0m\u001b[1;33m(\u001b[0m\u001b[1;36m0\u001b[0m\u001b[1;33m)\u001b[0m\u001b[1;33m\u001b[0m\u001b[1;33m\u001b[0m\u001b[0m\n\u001b[1;32m---> 36\u001b[1;33m         \u001b[0mtempin\u001b[0m\u001b[1;33m.\u001b[0m\u001b[0mappend\u001b[0m\u001b[1;33m(\u001b[0m\u001b[0mint\u001b[0m\u001b[1;33m(\u001b[0m\u001b[0mbin\u001b[0m\u001b[1;33m(\u001b[0m\u001b[0mint\u001b[0m\u001b[1;33m(\u001b[0m\u001b[1;34m''\u001b[0m\u001b[1;33m.\u001b[0m\u001b[0mjoin\u001b[0m\u001b[1;33m(\u001b[0m\u001b[0mmap\u001b[0m\u001b[1;33m(\u001b[0m\u001b[0mstr\u001b[0m\u001b[1;33m,\u001b[0m\u001b[0mnew_row\u001b[0m\u001b[1;33m)\u001b[0m\u001b[1;33m)\u001b[0m\u001b[1;33m,\u001b[0m \u001b[1;36m2\u001b[0m\u001b[1;33m)\u001b[0m\u001b[1;33m)\u001b[0m\u001b[1;33m,\u001b[0m\u001b[1;36m2\u001b[0m\u001b[1;33m)\u001b[0m\u001b[1;33m)\u001b[0m\u001b[1;33m\u001b[0m\u001b[1;33m\u001b[0m\u001b[0m\n\u001b[0m\u001b[0;32m     37\u001b[0m         \u001b[0mtemp\u001b[0m\u001b[1;33m.\u001b[0m\u001b[0mappend\u001b[0m\u001b[1;33m(\u001b[0m\u001b[0mtempin\u001b[0m\u001b[1;33m)\u001b[0m\u001b[1;33m\u001b[0m\u001b[1;33m\u001b[0m\u001b[0m\n\u001b[0;32m     38\u001b[0m \u001b[1;33m\u001b[0m\u001b[0m\n",
      "\u001b[1;31mValueError\u001b[0m: invalid literal for int() with base 2: '123'"
     ]
    }
   ],
   "source": [
    "#list all csv files in the directory\n",
    "\n",
    "csv_files = glob.glob('*.{}'.format('csv'))\n",
    "\n",
    "nfolds_final= [0]*N                       # inizializzo la lista finale delle coincidenze n-fold \n",
    "\n",
    "\n",
    "\n",
    "#loop over the csv files\n",
    "\n",
    "for file in csv_files:\n",
    "    \n",
    "\n",
    "    with open(file, newline='') as f:\n",
    "#         next(f)\n",
    "        r = csv.reader(f)\n",
    "        data = [line for line in r]\n",
    "\n",
    "    new_data = []\n",
    "\n",
    "    for row in data:                       # converto le stringhe del file in liste di interi\n",
    "        innerlist = []\n",
    "        for j in row:\n",
    "            innerlist.append(int(j))\n",
    "        new_data.append(innerlist)\n",
    "\n",
    "    \n",
    "\n",
    "    temp=[]                                #    Tolgo le coincidenze (prima colonna) e\n",
    "                                           #   rimango con una lista di 1 e 0 che converto in \n",
    "                                           #   un numero binario.\n",
    "    for new_row in new_data:\n",
    "        tempin=[]        \n",
    "        tempin.append(new_row[0])\n",
    "        new_row.pop(0)\n",
    "        tempin.append(int(bin(int(''.join(map(str,new_row)), 2)),2))\n",
    "        temp.append(tempin)\n",
    "\n",
    "    \n",
    "\n",
    "    data_dict={}                            #    Tolgo le coincidenze (prima colonna) e\n",
    "                                            #   rimango con una lista di 1 e 0 che converto in \n",
    "                                            #   un numero binario.\n",
    "    for item in temp:\n",
    "        key, value = item[1], item[0]\n",
    "        data_dict[key] = value\n",
    "       \n",
    "    \n",
    "  \n",
    "    \n",
    "    nfolds=[]                               #    Scrivo la lista delle coincidenze riordinando le chiavi \n",
    "                                            #    in accordo con integer_combos e prendendo i valori\n",
    "                                            #     corrispondenti\n",
    " \n",
    "    for integer_combo in integer_combos:\n",
    "        if integer_combo in list(data_dict.keys()):\n",
    "            nfolds.append(data_dict[integer_combo])\n",
    "        else:                                            # Quando una chiave/combo non c'è nel file, il \n",
    "                                                         # corrispondente valore viene posto a zero.\n",
    "            nfolds.append(0)\n",
    "            \n",
    "            \n",
    "        \n",
    "# ad ogni loop aggiungo la lista di coincidenze provenienti dal file in esame  \n",
    "\n",
    "    nfolds_final = list( map(add, nfolds_final, nfolds) )\n",
    "\n",
    "nfolds_final_array = np.array(nfolds_final)\n",
    "#print(nfolds_final_array)\n",
    "    \n",
    "    \n",
    "#totale delle coincidenze rivelate\n",
    "\n",
    "# total_nfolds= add_asym(nfolds_final_array,errors_inf,errors_sup,order=0,nmax=100000,tol=1e-3,ohwell=True)[0]\n",
    "total_nfolds= sum(nfolds_final)\n",
    "\n",
    "print (\"Total n-folds = \", total_nfolds)\n",
    "# print(nfolds_final_array)\n",
    "\n",
    "\n",
    "# frequenze relative\n",
    "\n",
    "frequencies = nfolds_final_array/total_nfolds"
   ]
  },
  {
   "cell_type": "markdown",
   "metadata": {},
   "source": [
    "### Errori sui conteggi"
   ]
  },
  {
   "cell_type": "code",
   "execution_count": 6,
   "metadata": {},
   "outputs": [
    {
     "ename": "NameError",
     "evalue": "name 'total_nfolds' is not defined",
     "output_type": "error",
     "traceback": [
      "\u001b[1;31m---------------------------------------------------------------------------\u001b[0m",
      "\u001b[1;31mNameError\u001b[0m                                 Traceback (most recent call last)",
      "\u001b[1;32m<ipython-input-6-233b1e50ccf6>\u001b[0m in \u001b[0;36m<module>\u001b[1;34m\u001b[0m\n\u001b[0;32m     17\u001b[0m \u001b[1;31m# errori sulle frequenze, ottenuti propagando \"gaussianamente\"\u001b[0m\u001b[1;33m\u001b[0m\u001b[1;33m\u001b[0m\u001b[1;33m\u001b[0m\u001b[0m\n\u001b[0;32m     18\u001b[0m \u001b[1;33m\u001b[0m\u001b[0m\n\u001b[1;32m---> 19\u001b[1;33m \u001b[0mfrequencies_errors_sup\u001b[0m\u001b[1;33m=\u001b[0m \u001b[0mnp\u001b[0m\u001b[1;33m.\u001b[0m\u001b[0msqrt\u001b[0m\u001b[1;33m(\u001b[0m \u001b[1;33m(\u001b[0m\u001b[0merrors_sup\u001b[0m\u001b[1;33m/\u001b[0m\u001b[0mtotal_nfolds\u001b[0m\u001b[1;33m)\u001b[0m\u001b[1;33m**\u001b[0m\u001b[1;36m2\u001b[0m \u001b[1;33m+\u001b[0m  \u001b[1;33m(\u001b[0m\u001b[1;33m(\u001b[0m\u001b[0mnfolds_final_array\u001b[0m\u001b[1;33m/\u001b[0m\u001b[0mtotal_nfolds\u001b[0m\u001b[1;33m**\u001b[0m\u001b[1;36m2\u001b[0m\u001b[1;33m)\u001b[0m\u001b[1;33m**\u001b[0m\u001b[1;36m2\u001b[0m \u001b[1;33m*\u001b[0m \u001b[0mtotal_nfolds_error_sup\u001b[0m\u001b[1;33m**\u001b[0m\u001b[1;36m2\u001b[0m\u001b[1;33m)\u001b[0m \u001b[1;33m)\u001b[0m\u001b[1;33m\u001b[0m\u001b[1;33m\u001b[0m\u001b[0m\n\u001b[0m\u001b[0;32m     20\u001b[0m \u001b[0mfrequencies_errors_inf\u001b[0m\u001b[1;33m=\u001b[0m \u001b[0mnp\u001b[0m\u001b[1;33m.\u001b[0m\u001b[0msqrt\u001b[0m\u001b[1;33m(\u001b[0m \u001b[1;33m(\u001b[0m\u001b[0merrors_inf\u001b[0m\u001b[1;33m/\u001b[0m\u001b[0mtotal_nfolds\u001b[0m\u001b[1;33m)\u001b[0m\u001b[1;33m**\u001b[0m\u001b[1;36m2\u001b[0m \u001b[1;33m+\u001b[0m  \u001b[1;33m(\u001b[0m\u001b[1;33m(\u001b[0m\u001b[0mnfolds_final_array\u001b[0m\u001b[1;33m/\u001b[0m\u001b[0mtotal_nfolds\u001b[0m\u001b[1;33m**\u001b[0m\u001b[1;36m2\u001b[0m\u001b[1;33m)\u001b[0m\u001b[1;33m**\u001b[0m\u001b[1;36m2\u001b[0m \u001b[1;33m*\u001b[0m \u001b[0mtotal_nfolds_error_inf\u001b[0m\u001b[1;33m**\u001b[0m\u001b[1;36m2\u001b[0m\u001b[1;33m)\u001b[0m \u001b[1;33m)\u001b[0m\u001b[1;33m\u001b[0m\u001b[1;33m\u001b[0m\u001b[0m\n\u001b[0;32m     21\u001b[0m \u001b[1;31m# print(frequencies_errors_sup)\u001b[0m\u001b[1;33m\u001b[0m\u001b[1;33m\u001b[0m\u001b[1;33m\u001b[0m\u001b[0m\n",
      "\u001b[1;31mNameError\u001b[0m: name 'total_nfolds' is not defined"
     ]
    }
   ],
   "source": [
    "# errori sui conteggi per le varie combinazioni\n",
    "\n",
    "errors_sup = scipy.stats.chi2.ppf( (1-0.158655), 2*(nfolds_final_array+1) ) / 2 - nfolds_final_array\n",
    "errors_inf = (nfolds_final_array - scipy.stats.chi2.ppf( 0.158655, 2*nfolds_final_array ) / 2)\n",
    "\n",
    "\n",
    "where_are_NaNs = np.isnan(errors_inf)\n",
    "errors_inf[where_are_NaNs] = 0\n",
    "\n",
    "# print(errors_inf,errors_sup)\n",
    "\n",
    "# errori sul totale delle coincidenze, ottenuti sommando in quadratura\n",
    "\n",
    "total_nfolds_error_inf= add_asym(nfolds_final_array,errors_inf,errors_sup,order=0,nmax=100000,tol=1e-3,ohwell=True)[1]\n",
    "total_nfolds_error_sup= add_asym(nfolds_final_array,errors_inf,errors_sup,order=0,nmax=100000,tol=1e-3,ohwell=True)[2]\n",
    "\n",
    "# errori sulle frequenze, ottenuti propagando \"gaussianamente\"\n",
    "\n",
    "frequencies_errors_sup= np.sqrt( (errors_sup/total_nfolds)**2 +  ((nfolds_final_array/total_nfolds**2)**2 * total_nfolds_error_sup**2) )\n",
    "frequencies_errors_inf= np.sqrt( (errors_inf/total_nfolds)**2 +  ((nfolds_final_array/total_nfolds**2)**2 * total_nfolds_error_inf**2) )\n",
    "# print(frequencies_errors_sup)\n",
    "# print(frequencies_errors_inf)"
   ]
  },
  {
   "cell_type": "markdown",
   "metadata": {},
   "source": [
    "## Reading data from csv files - Lorenzo\n"
   ]
  },
  {
   "cell_type": "code",
   "execution_count": 12,
   "metadata": {},
   "outputs": [
    {
     "name": "stdout",
     "output_type": "stream",
     "text": [
      "20\n",
      "Total n-folds =  4148311.0\n"
     ]
    }
   ],
   "source": [
    "#list all csv files in the directory\n",
    "\n",
    "csv_files = glob.glob('*.{}'.format('csv'))\n",
    "\n",
    "\n",
    "\n",
    "nfolds_final= [0]*N   # inizializzo la lista finale delle coincidenze n-fold \n",
    "\n",
    "\n",
    "\n",
    "\n",
    "#loop over the csv files\n",
    "\n",
    "for file in csv_files:\n",
    "    \n",
    "\n",
    "    with open(file, newline='') as f:\n",
    "#        next(f)\n",
    "        r = csv.reader(f)\n",
    "        data = [line for line in r]\n",
    "\n",
    "    new_data = []\n",
    "\n",
    "    for row in data:                         # converto le stringhe del file in liste di interi\n",
    "        innerlist = []\n",
    "        for j in row:\n",
    "            innerlist.append(int(j))\n",
    "        new_data.append(innerlist)\n",
    "\n",
    "    \n",
    "\n",
    "    nfolds=[]                               #    Tolgo le coincidenze (prima colonna) e\n",
    "                                            #    rimango con una lista di 1 e 0 che converto in \n",
    "                                            #    un numero binario.\n",
    "    for new_row in new_data:        \n",
    "        nfolds.append(new_row[0])\n",
    "\n",
    "\n",
    "\n",
    "            \n",
    "    # ad ogni loop aggiungo la lista di coincidenze provenienti dal file in esame  \n",
    "\n",
    "    nfolds_final=list( map(add, nfolds_final, nfolds) )\n",
    "    \n",
    "nfolds_final_array = np.array(nfolds_final)   \n",
    "print(len(nfolds_final)) \n",
    "\n",
    "\n",
    "# totale delle coincidenze rivelate\n",
    "\n",
    "total_nfolds= add_asym(nfolds_final_array,errors_inf,errors_sup,order=0,nmax=100000,tol=1e-3,ohwell=True)[0]\n",
    "print (\"Total n-folds = \", total_nfolds)\n",
    "\n",
    "# frequenze relative \n",
    "\n",
    "frequencies = nfolds_final_array/total_nfolds"
   ]
  },
  {
   "cell_type": "code",
   "execution_count": 13,
   "metadata": {},
   "outputs": [
    {
     "name": "stdout",
     "output_type": "stream",
     "text": [
      "0.33424219685495965\n",
      "0.45124964907642534\n"
     ]
    }
   ],
   "source": [
    "# Simulazioni caso indist.\n",
    "\n",
    "file = open(r\"C:\\\\Users\\\\PC\\Desktop\\\\Ph.D\\\\Loop experiment\\\\Simulations\\\\3-in-6-0.15-loss.csv\", 'r')\n",
    "file_string = np.array([row.strip().split('\\t') for row in file][0:], dtype=float)\n",
    "p = np.array(file_string[:, 0])\n",
    "G_indist=np.sum(p)\n",
    "p_indist= p/G_indist\n",
    "print(G_indist)\n",
    "\n",
    "\n",
    "# file = open(r\"C:\\\\Users\\\\PC\\\\Desktop\\\\Ph.D\\\\Loop experiment\\\\one-loop-sampling\\\\Prob_teo_5_in_10_Pyramid.csv\", 'r')\n",
    "# file_string = np.array([row.strip().split('\\t') for row in file][0:], dtype=float)\n",
    "# p = np.array(file_string[:, 0])\n",
    "# G_indist=np.sum(p)\n",
    "# p_indist= p/G_indist\n",
    "# print(G_indist)\n",
    "\n",
    "\n",
    "# Simulazioni caso dist.\n",
    "\n",
    "file = open(r\"C:\\\\Users\\\\PC\\Desktop\\\\Ph.D\\\\Loop experiment\\\\Simulations\\\\3-in-6-0.15-loss-distinguishable.csv\", 'r')\n",
    "file_string = np.array([row.strip().split('\\t') for row in file][0:], dtype=float)\n",
    "q = np.array(file_string[:, 0])\n",
    "G_dist= np.sum(q)\n",
    "q_dist= q/G_dist\n",
    "print(G_dist)"
   ]
  },
  {
   "cell_type": "code",
   "execution_count": 13,
   "metadata": {},
   "outputs": [
    {
     "name": "stdout",
     "output_type": "stream",
     "text": [
      "0.004848563209102369\n",
      "0.037279754892756\n"
     ]
    }
   ],
   "source": [
    "rate = 300/61874\n",
    "print(rate)\n",
    "norm_rate = rate/G_indist\n",
    "print(norm_rate)"
   ]
  },
  {
   "cell_type": "markdown",
   "metadata": {},
   "source": [
    "## Metodi di validazione\n"
   ]
  },
  {
   "cell_type": "code",
   "execution_count": 65,
   "metadata": {},
   "outputs": [],
   "source": [
    "# Creo una lista con gli integer_combos\n",
    "#ciascuno ripetuto tante volte quante il corrispondente evento è stato misurato\n",
    "\n",
    "integer_combos_srotolato = [] \n",
    "\n",
    "for i in range(len(nfolds_final)):\n",
    "    if nfolds_final[i] !=0:\n",
    "        integer_combos_srotolato.extend([integer_combos[i]]*nfolds_final[i])\n",
    "    else:\n",
    "        continue\n",
    "        \n",
    "        \n",
    "# Ora lo mischio a caso in modo che gli eventi vengano esaminati in ordine random\n",
    "\n",
    "random.shuffle(integer_combos_srotolato)"
   ]
  },
  {
   "cell_type": "markdown",
   "metadata": {},
   "source": [
    "### Protocollo Nicolò"
   ]
  },
  {
   "cell_type": "code",
   "execution_count": 66,
   "metadata": {},
   "outputs": [],
   "source": [
    "q_dist=np.full(N, 1/N) # probabilità uniform sampler\n",
    "\n",
    "# calcolo i rapporti alla base dei metodi di validazione\n",
    "\n",
    "ratios_dict={}\n",
    "\n",
    "for i in range(len(integer_combos)):\n",
    "#     if p_indist[i]<1e-10 and q_dist[i]<1e-10:\n",
    "#         key, value = integer_combos[i], 0\n",
    "#     else:\n",
    "    key, value = integer_combos[i], (p_indist[i]/q_dist[i])\n",
    "    ratios_dict[key] = value\n",
    "    \n",
    "k_1 = 0.9     # parametri per il metodo di Nicolò\n",
    "k_2 = 1.5\n",
    "\n",
    "D_evolution_runs=[]\n",
    "\n",
    "for run in range(100):\n",
    "    D = 0                 # inizializzo il counter\n",
    "    D_evolution=[]        # questa è la lista aggiornata con i valori del counter \n",
    "\n",
    "     # Protocollo \n",
    "    random.shuffle(integer_combos_srotolato)\n",
    "    for i in integer_combos_srotolato:\n",
    "    \n",
    "        ratio = ratios_dict[i]\n",
    "    \n",
    "        if k_1 < ratio < 1/k_1:\n",
    "            continue\n",
    "    \n",
    "        elif math.isnan(ratio) or math.isinf(ratio):\n",
    "            continue\n",
    "            \n",
    "        elif 1/k_1 < ratio < k_2:\n",
    "            D+=1\n",
    "    \n",
    "        elif ratio > k_2:\n",
    "            D+=2\n",
    "        \n",
    "        elif 1/k_2 < ratio <= k_1:\n",
    "            D-=1\n",
    "        \n",
    "        elif ratio < 1/k_2:\n",
    "            D-=2\n",
    "        \n",
    "        D_evolution.append(D)\n",
    "    \n",
    "\n",
    "\n",
    "    D_evolution_runs.append(D_evolution)\n",
    "    D_evolution_runs_array = np.array(D_evolution_runs)\n",
    "    \n",
    "D_evolution_avg_array = D_evolution_runs_array.mean(axis=0)"
   ]
  },
  {
   "cell_type": "markdown",
   "metadata": {},
   "source": [
    "### Metodo Bayesiano"
   ]
  },
  {
   "cell_type": "code",
   "execution_count": 77,
   "metadata": {
    "scrolled": false
   },
   "outputs": [],
   "source": [
    "ratios_dict={}\n",
    "\n",
    "for i in range(len(integer_combos)):\n",
    "    if p_indist[i]<1e-10 and q_dist[i]<1e-10:\n",
    "        key, value = integer_combos[i], 0\n",
    "        ratios_dict[key] = value\n",
    "    else:\n",
    "        key, value = integer_combos[i], (p_indist[i]/q_dist[i])\n",
    "        ratios_dict[key] = value\n",
    "\n",
    "\n",
    "D_Bayes_evolution_runs=[]   # questa è la lista aggiornata con i valori del counter\n",
    "\n",
    "for run in range(100):\n",
    "    D_Bayes_temp = 1\n",
    "    D_Bayes_evolution=[0.5] \n",
    "    \n",
    "    \n",
    "    random.shuffle(integer_combos_srotolato)\n",
    "    \n",
    "    for i in integer_combos_srotolato:\n",
    "            \n",
    "            ratio = ratios_dict[i]\n",
    "            if ratio == 0:\n",
    "                continue\n",
    "            \n",
    "            else:\n",
    "                D_Bayes_temp *= ratio\n",
    "                D_Bayes = D_Bayes_temp/(D_Bayes_temp + 1)\n",
    "#                 print(D_Bayes)\n",
    "           \n",
    "            D_Bayes_evolution.append(D_Bayes)\n",
    "#             D_Bayes_evolution_array = np.array(D_Bayes_evolution)\n",
    "\n",
    "    D_Bayes_evolution_runs.append(D_Bayes_evolution)\n",
    "    D_Bayes_evolution_runs_array = np.array(D_Bayes_evolution_runs)\n",
    "D_Bayes_evolution_avg_array = D_Bayes_evolution_runs_array.mean(axis=0)\n",
    "# print(D_Bayes_evolution_avg_array)"
   ]
  },
  {
   "cell_type": "markdown",
   "metadata": {},
   "source": [
    "### Figure di merito"
   ]
  },
  {
   "cell_type": "code",
   "execution_count": 2,
   "metadata": {},
   "outputs": [],
   "source": [
    "sqrt_prod = []\n",
    "mod_diff = []\n",
    "\n",
    "for i in range(N):\n",
    "    prd_i = ((nfolds_final[i])/total_nfolds)*(p_indist[i])\n",
    "    diff_i = ((nfolds_final[i])/total_nfolds)-(p_indist[i])\n",
    "    sqrt_prod.append(math.sqrt(prd_i))\n",
    "    mod_diff.append(abs(diff_i))\n",
    "    \n",
    "F= sum(sqrt_prod)           # Fidelity\n",
    "D= 0.5 * sum(mod_diff)     # Distance\n",
    "\n",
    "print(F,D)    "
   ]
  },
  {
   "cell_type": "markdown",
   "metadata": {},
   "source": [
    "## HOM Visibility"
   ]
  },
  {
   "cell_type": "code",
   "execution_count": null,
   "metadata": {
    "scrolled": true
   },
   "outputs": [],
   "source": [
    "# open the file\n",
    "file = open(r\"C:\\\\Users\\\\PC\\\\Desktop\\\\Ph.D\\\\Loop experiment\\\\Results\\\\HOM\\\\Bidirectional_histogram_2022-11-29_121019.txt\", 'r')\n",
    "file_string = np.array([row.strip().split('\\t') for row in file][1:], dtype=float)\n",
    "times = file_string[:, 0]\n",
    "counts = file_string[:, 1]\n",
    "\n",
    "# define the parameters\n",
    "int_win = 2000  # in ps\n",
    "central_pos = -100  # in ps\n",
    "binwidth = 50  # in ps\n",
    "rep_rate = 100_000  # in ps\n",
    "\n",
    "# transform the parameters into indexes\n",
    "int_win_idx = int_win // binwidth\n",
    "center_pos_idx = np.where(times == central_pos)[0][0]\n",
    "rep_rate_idx = rep_rate // binwidth\n",
    "\n",
    "# calculate the areas\n",
    "center_peak = sum(counts[center_pos_idx - int_win_idx // 2: center_pos_idx + int_win_idx // 2])\n",
    "small_peak_left = sum(counts[center_pos_idx - rep_rate_idx - int_win_idx // 2: center_pos_idx - rep_rate_idx + int_win_idx // 2])\n",
    "small_peak_right = sum(counts[center_pos_idx + rep_rate_idx - int_win_idx // 2: center_pos_idx + rep_rate_idx + int_win_idx // 2])\n",
    "big_peak_left = sum(counts[center_pos_idx - 5*rep_rate_idx - int_win_idx // 2: center_pos_idx - 5*rep_rate_idx + int_win_idx // 2])\n",
    "big_peak_right = sum(counts[center_pos_idx + 5*rep_rate_idx - int_win_idx // 2: center_pos_idx + 5*rep_rate_idx + int_win_idx // 2])\n",
    "\n",
    "print(small_peak_right)\n",
    "# plot some shit\n",
    "%matplotlib qt5\n",
    "fig1, ax1 = plt.subplots()\n",
    "ax1.plot(times/1000, counts, color='black')\n",
    "plt.ylabel(\"Counts per bin\")\n",
    "plt.xlabel(\"Time difference (ns)\")\n",
    "#filling the areas below peaks\n",
    "# ax1.fill_between(times, counts, where=(times > times[center_pos_idx - int_win_idx // 2]) & (times < times[center_pos_idx + int_win_idx // 2]), color='red')   # center_peak\n",
    "# ax1.fill_between(times, counts, where=(times > times[center_pos_idx  - rep_rate_idx - int_win_idx // 2]) & (times < times[center_pos_idx - rep_rate_idx + int_win_idx // 2]), color='red')   # small left peak\n",
    "# ax1.fill_between(times, counts, where=(times > times[center_pos_idx  + rep_rate_idx - int_win_idx // 2]) & (times < times[center_pos_idx + rep_rate_idx + int_win_idx // 2]), color='red')   # center_peak\n",
    "plt.show()\n",
    "\n",
    "#\n",
    "M = 1 - ( (2*(small_peak_left + small_peak_right)) / ((big_peak_left + big_peak_right)/2) )\n",
    "print('HOM Visibility =',M)"
   ]
  },
  {
   "cell_type": "markdown",
   "metadata": {},
   "source": [
    "## Plots"
   ]
  },
  {
   "cell_type": "code",
   "execution_count": 44,
   "metadata": {},
   "outputs": [],
   "source": [
    "# Distribuzione output (Teo. e Exp.)\n",
    "\n",
    "x = np.arange(0, N)\n",
    "y = frequencies\n",
    "# y = nfolds_final_array\n",
    "y2 = p_indist  #theoretical data\n",
    "y3 = q_dist"
   ]
  },
  {
   "cell_type": "code",
   "execution_count": 78,
   "metadata": {},
   "outputs": [
    {
     "name": "stdout",
     "output_type": "stream",
     "text": [
      "258\n"
     ]
    }
   ],
   "source": [
    "# Validazione vs Distinguishable Sampler con metodo Bayesiano\n",
    "\n",
    "print(len(D_Bayes_evolution_avg_array))\n",
    "x = np.arange(0, len(D_Bayes_evolution_avg_array))\n",
    "y = D_Bayes_evolution_avg_array"
   ]
  },
  {
   "cell_type": "code",
   "execution_count": 68,
   "metadata": {},
   "outputs": [
    {
     "name": "stdout",
     "output_type": "stream",
     "text": [
      "298\n"
     ]
    }
   ],
   "source": [
    "# Validazione vs Uniform Sampler con metodo Nicolò\n",
    "\n",
    "print(len(D_evolution_avg_array))\n",
    "x = np.arange(0, len(D_evolution_avg_array))\n",
    "y = D_evolution_avg_array"
   ]
  },
  {
   "cell_type": "code",
   "execution_count": 51,
   "metadata": {
    "scrolled": true
   },
   "outputs": [],
   "source": [
    "plt.rcParams['axes.facecolor'] = 'White'    # fisso il colore del background\n",
    "\n",
    "new_font = {'fontname':'Candara'}           # cambio il font\n",
    "font = {'weight' : 'normal', 'size'   : 13}\n",
    "plt.rc('font', **font)\n",
    "\n",
    "plt.figure(figsize=(20,16))                  # fisso le dimensioni della figura\n",
    "\n",
    "\n",
    "%matplotlib qt5                             \n",
    "fig, ax =plt.subplots()\n",
    "\n",
    "#errors=np.vstack((frequencies_errors_inf, frequencies_errors_sup))\n",
    "#print(errors)\n",
    "#ax.errorbar(x, y, yerr=errors, fmt='.', capsize=2, color=\"maroon\")\n",
    "ax.bar(x, y, color = 'red', label='Experiment',width=0.8)    # Dati sperimentali \n",
    "ax.bar(x, -y3, color = 'darkmagenta', fill=True, label='Theory',width=0.8)  # Dati teorici \n",
    "\n",
    "# xlabels= [str(i) for i in combos]\n",
    "# ax.set_xticks(x)\n",
    "# ax.set_xticklabels(xlabels, rotation=45)\n",
    "#ax.scatter(x, y, color = 'darkblue', label='Experiment',s=2)  # Validazione Nicolò\n",
    "#ax.axis([0, 300 , -100, 400])                             #[xstart, xend, ystart, yend] \n",
    "\n",
    "\n",
    "# ax.scatter(x, y, color = 'maroon', label='Experiment',s=7)  # Validazione Bayesiana\n",
    "# ax.axis([0, 100 , 0, 1.1])                             #[xstart, xend, ystart, yend] \n",
    "\n",
    "\n",
    "# We change the fontsize of minor ticks label \n",
    "plt.tick_params(\n",
    "    axis='x',          # changes apply to the x-axis\n",
    "    which='both',      # both major and minor ticks are affected\n",
    "    bottom=True,      # ticks along the bottom edge are off\n",
    "    top=False,         # ticks along the top edge are off\n",
    "    labelbottom=False,\n",
    "    labelsize=13)\n",
    "\n",
    "plt.gcf().subplots_adjust(left=0.15, bottom=0.1)\n",
    "# plt.yaxis([25000, 30000 , -1, 1]) # [xstart, xend, ystart, yend]       # fissa il range su entrambi gli assi\n",
    "# ax.set_xlim(xmax=100) # fissa il range su un asse solo\n",
    "# ax.set_xlim(xmin=0)\n",
    "ax.set_ylim(ymin=-0.33)\n",
    "# ax.set_ylim(ymax=150)\n",
    "\n",
    "# plt.title(\"Results\")\n",
    "plt.ylabel(\"Frequencies\")\n",
    "plt.xlabel(\"20 output combinations from {1,2,3} to {4,5,6}\", **new_font)\n",
    "\n",
    "#plt.legend(loc='upper left', numpoints = 1, prop={'size': 10})\n",
    "\n",
    "plt.savefig(\"3-photons-results.png\",transparent=True, dpi=600)\n",
    "\n",
    "plt.show()"
   ]
  },
  {
   "cell_type": "markdown",
   "metadata": {},
   "source": [
    "## Stampa file Iris"
   ]
  },
  {
   "cell_type": "code",
   "execution_count": 12,
   "metadata": {},
   "outputs": [],
   "source": [
    "import csv\n",
    "\n",
    "for j in range(len(combos)):\n",
    "     combos_printable[j].insert(0, nfolds_final[j])\n",
    "\n",
    "        \n",
    "#print(combos_printable)\n",
    "        \n",
    "        \n",
    "filename = '5-photons-10-modes-lori-pattern-Iris.csv'\n",
    "\n",
    "with open(filename, 'w') as csvfile:\n",
    "    csvwriter = csv.writer(csvfile)\n",
    "    for x in combos_printable:\n",
    "        csvwriter.writerow(x)\n",
    "\n",
    "\n",
    "# filename = '3-photons-6-modes-Iris.csv'\n",
    "        \n",
    "# with open(filename, 'w') as f:\n",
    "#     writer = csv.writer(f)\n",
    "#     for x in nfolds_final:\n",
    "#         writer.writerow([x])"
   ]
  },
  {
   "cell_type": "markdown",
   "metadata": {},
   "source": [
    "## Funzione per sommare incertezze asimmetriche"
   ]
  },
  {
   "cell_type": "code",
   "execution_count": 5,
   "metadata": {},
   "outputs": [],
   "source": [
    "sqrt2pi = sqrt(2.*pi)\n",
    "\n",
    "def add_asym(x0s,siglos,sighis,order=2,nmax=100,tol=1e-6,ohwell=False):\n",
    "\n",
    "    # ----- Standard, but wrong, method of adding lower and upper errors ------\n",
    "    if order==0:                                  #   separately in quadrature |\n",
    "        if not ohwell:                            #                            |\n",
    "            print('This is WRONG! Mark my words, it is WROOOOOONG!!!')#        |\n",
    "        x0    = np.sum(x0s)                       #                            |\n",
    "        siglo = sqrt(np.sum(siglos**2))           #                            |\n",
    "        sighi = sqrt(np.sum(sighis**2))           #____________________________|\n",
    "\n",
    "    else:\n",
    "      # ------------------   First, calculate total moments   -----------------\n",
    "      mu,V,gamma = 0.,0.,0.                               #                    |\n",
    "      if order==1:                                        #Cumul. mean,var,skew|\n",
    "          sig    = (sighis+siglos) / 2.                   #\"The mean\" }_eq. 1  |\n",
    "          alpha  = (sighis-siglos) / 2.                   #\"The diff.\"}        |\n",
    "          mu     = np.sum(x0s + (sighis-siglos) / sqrt2pi)#Biased mean         |\n",
    "          V      = np.sum(sig**2 + alpha**2 * (1-2/pi))   #Variance            |\n",
    "          t1     = sighis**3 - siglos**3                  #\\                   |\n",
    "          t2     = (sighis-siglos) * (sighis**2+siglos**2)# > 3 terms for gamma|\n",
    "          t3     = (sighis-siglos)**3                     #/                   |\n",
    "          gamma  = np.sum(2.*t1-1.5*t2+t3/pi) / sqrt2pi   #Skewness            |\n",
    "      else:                                               #Same for order = 2  |\n",
    "          sig    = (sighis+siglos) / 2.                   #\"The mean\" }_eq. 1  |\n",
    "          alpha  = (sighis-siglos) / 2.                   #\"The diff.\"}        |\n",
    "          mu     = np.sum(x0s + alpha)                    #Biased mean         |\n",
    "          V      = np.sum(sig**2 + 2*alpha**2)            #Variance            |\n",
    "          gamma  = np.sum(6*sig**2 * alpha + 8*alpha**3)  #Skewness____________|\n",
    "\n",
    "      # -----------------   Check if iteration is necessary  ------------------\n",
    "      check = abs(gamma/mu**3) if mu != 0. else gamma #Avoid NaN for mu = 0    |\n",
    "      if check < 1e-12:                           #If errors are too close to  |\n",
    "          x0    = mu                              # being symmetric, the method|\n",
    "          siglo = sqrt(V)                         # below gives an exception,  |\n",
    "          sighi = siglo                           # so calculate normally______|\n",
    "\n",
    "      else:\n",
    "      # -----------  Use moments to find resulting distribution  --------------\n",
    "          n = 0                                  #Counter for # of iterations  | \n",
    "          if order==1:                           #                             |\n",
    "              D = 0.                             #Iterator; eq. to sighi-siglo |\n",
    "              while True:                        #                             |\n",
    "                  n   += 1                       #Update counter               |\n",
    "                  S    = 2*V + D**2/pi           #S is equal to siglo^2+sighi^2|\n",
    "                  Dold = D                       #                             |\n",
    "                  D    = 2/(3.*S) * (sqrt2pi*gamma - D**3 * (1/pi-1)) #Iterate!|\n",
    "                  if Dold != 0.:                 #                             |\n",
    "                      if abs(D/Dold-1.) < tol: break #Accept if close enough   |\n",
    "                  assert n<nmax, 'Too many iterations'#If it takes too long, fuck it\n",
    "              S     = 2*V + D**2/pi              #Final update of S            |\n",
    "              x0    = mu - D/sqrt2pi             #Biased mean                  |\n",
    "              alpha = D / 2.                     #\"The difference\" }_ eq. 1    |\n",
    "              sig   = sqrt(V - alpha**2*(1-2/pi))#\"The mean\"       }           |\n",
    "              siglo = sig - alpha                #Lower error                  |\n",
    "              sighi = sig + alpha                #Upper error                  |\n",
    "                                                 #                             |\n",
    "          elif order==2:                         #                             |\n",
    "              alpha = 0.                         #Iterator; equal to (hi-lo)/2 |\n",
    "              while True:                        #                             |\n",
    "                  n    += 1                      #Update counter               |\n",
    "                  aold  = alpha                  #                             |\n",
    "                  alpha = gamma / (6*V - 4*alpha**2) #Iterate!                 |\n",
    "                  if aold != 0.:                 #                             |\n",
    "                      if abs(alpha/aold-1.) < tol: break#Accept if close enough|\n",
    "                  assert n<nmax, 'Too many iterations'#If it takes too long, fuck it\n",
    "              sig   = sqrt(V - 2*alpha**2)       #\"The mean\" (eq 1)            |\n",
    "              x0    = mu  - alpha                #\\                            |\n",
    "              siglo = sig - alpha                # >Final values               |\n",
    "              sighi = sig + alpha                #/____________________________|\n",
    "\n",
    "    return np.array([x0, siglo, sighi])\n",
    "#------------------------------------------------------------------------------"
   ]
  },
  {
   "cell_type": "code",
   "execution_count": 4,
   "metadata": {},
   "outputs": [
    {
     "name": "stdout",
     "output_type": "stream",
     "text": [
      "1.8410232455340112\n"
     ]
    }
   ],
   "source": [
    "errors_sup = scipy.stats.chi2.ppf( (1-0.158655), 2*(0+1) ) / 2 - 0\n",
    "print(errors_sup)"
   ]
  },
  {
   "cell_type": "code",
   "execution_count": null,
   "metadata": {},
   "outputs": [],
   "source": []
  }
 ],
 "metadata": {
  "kernelspec": {
   "display_name": "Python 3",
   "language": "python",
   "name": "python3"
  },
  "language_info": {
   "codemirror_mode": {
    "name": "ipython",
    "version": 3
   },
   "file_extension": ".py",
   "mimetype": "text/x-python",
   "name": "python",
   "nbconvert_exporter": "python",
   "pygments_lexer": "ipython3",
   "version": "3.8.5"
  }
 },
 "nbformat": 4,
 "nbformat_minor": 4
}
