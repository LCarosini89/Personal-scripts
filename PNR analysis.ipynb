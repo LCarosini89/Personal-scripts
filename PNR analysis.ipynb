{
 "cells": [
  {
   "cell_type": "markdown",
   "metadata": {},
   "source": [
    "# PNR data fit"
   ]
  },
  {
   "cell_type": "code",
   "execution_count": 1,
   "metadata": {},
   "outputs": [],
   "source": [
    "import numpy as np\n",
    "import matplotlib.pyplot as plt\n",
    "import matplotlib as mpl\n",
    "import csv\n",
    "import os\n",
    "import glob\n",
    "import math\n",
    "from operator import add\n",
    "from numpy import exp, loadtxt, pi, sqrt\n",
    "from lmfit import Model"
   ]
  },
  {
   "cell_type": "code",
   "execution_count": 2,
   "metadata": {},
   "outputs": [],
   "source": [
    "# import data\n",
    "file = open(r\"C:\\\\Users\\\\PC\\\\Desktop\\\\Ph.D\\\\PNR\\\\PNR_highpwr.txt\", 'r')\n",
    "file_string = np.array([row.strip().split(\" \") for row in file][0:], dtype=float)\n",
    "data_2D = file_string"
   ]
  },
  {
   "cell_type": "code",
   "execution_count": 3,
   "metadata": {},
   "outputs": [],
   "source": [
    "x=np.arange(0,data_2D.shape[0],1)\n",
    "y=np.arange(0,data_2D.shape[1],1)\n",
    "X, Y = np.meshgrid(x, y)\n",
    "# plt.plot(X, Y, marker='.', color='k', linestyle='none')"
   ]
  },
  {
   "cell_type": "markdown",
   "metadata": {},
   "source": [
    "### Plot raw data"
   ]
  },
  {
   "cell_type": "code",
   "execution_count": 6,
   "metadata": {},
   "outputs": [
    {
     "data": {
      "text/plain": [
       "<matplotlib.colorbar.Colorbar at 0x1dc0d487220>"
      ]
     },
     "execution_count": 6,
     "metadata": {},
     "output_type": "execute_result"
    }
   ],
   "source": [
    "%matplotlib qt5\n",
    "\n",
    "#color map\n",
    "\n",
    "fig, ax = plt.subplots()\n",
    "ax.set_xlabel(r'$\\tau_{fal}$ (ns)')\n",
    "ax.set_ylabel(r'$\\tau_{ris}$ (ns)')\n",
    "img = ax.imshow(data_2D)\n",
    "fig.colorbar(img)\n",
    "\n",
    "# fig = plt.figure()\n",
    "# ax = fig.add_subplot(111, projection='3d')\n",
    "# ax.plot_surface(X, Y, data_2D, color='red', antialiased=True)"
   ]
  },
  {
   "cell_type": "markdown",
   "metadata": {},
   "source": [
    "### Surface fit"
   ]
  },
  {
   "cell_type": "code",
   "execution_count": 5,
   "metadata": {},
   "outputs": [
    {
     "name": "stdout",
     "output_type": "stream",
     "text": [
      "[[Model]]\n",
      "    Model(double_gaussian)\n",
      "[[Fit Statistics]]\n",
      "    # fitting method   = leastsq\n",
      "    # function evals   = 67\n",
      "    # data points      = 1562500\n",
      "    # variables        = 10\n",
      "    chi-square         = 10328956.6\n",
      "    reduced chi-square = 6.61057451\n",
      "    Akaike info crit   = 2951057.76\n",
      "    Bayesian info crit = 2951180.38\n",
      "    R-squared          = 0.99367326\n",
      "[[Variables]]\n",
      "    amp_1:    641.117987 +/- 0.05917327 (0.01%) (init = 650)\n",
      "    cen_1_x:  604.573625 +/- 0.00682357 (0.00%) (init = 600)\n",
      "    wid_1_x:  73.9338503 +/- 0.00682407 (0.01%) (init = 60)\n",
      "    cen_1_y:  302.305265 +/- 0.00150060 (0.00%) (init = 300)\n",
      "    wid_1_y:  16.2590589 +/- 0.00150077 (0.01%) (init = 10)\n",
      "    amp_2:    160.474162 +/- 0.06006112 (0.04%) (init = 160)\n",
      "    cen_2_x:  330.831066 +/- 0.02730467 (0.01%) (init = 330)\n",
      "    wid_2_x:  72.9597880 +/- 0.02730666 (0.04%) (init = 40)\n",
      "    cen_2_y:  235.065800 +/- 0.00598536 (0.00%) (init = 230)\n",
      "    wid_2_y:  15.9932001 +/- 0.00598599 (0.04%) (init = 10)\n",
      "[[Correlations]] (unreported correlations are < 0.100)\n",
      "    C(amp_1, wid_1_y) = -0.5001\n",
      "    C(amp_2, wid_2_y) = -0.5001\n",
      "    C(amp_1, wid_1_x) = -0.5001\n",
      "    C(amp_2, wid_2_x) = -0.5001\n"
     ]
    }
   ],
   "source": [
    "# Defining the model function (sum of two Gaussians)\n",
    "\n",
    "def double_gaussian(x, y, amp_1, cen_1_x,cen_1_y, wid_1_x, wid_1_y, amp_2, cen_2_x,cen_2_y, wid_2_x, wid_2_y):    \n",
    "    return amp_1 * exp(-(x-cen_1_x)**2 / (2*wid_1_x**2))*exp(-(y-cen_1_y)**2 / (2*wid_1_y**2)) +\\\n",
    "           amp_2 * exp(-(x-cen_2_x)**2 / (2*wid_2_x**2))*exp(-(y-cen_2_y)**2 / (2*wid_2_y**2))\n",
    "\n",
    "\n",
    "gmodel = Model(double_gaussian, independent_vars= ['x','y'],\n",
    "               param_names=['amp_1', 'cen_1_x', 'wid_1_x', 'cen_1_y', 'wid_1_y',\n",
    "                            'amp_2', 'cen_2_x', 'wid_2_x', 'cen_2_y', 'wid_2_y'])\n",
    "\n",
    "# Performing the fit\n",
    "\n",
    "result = gmodel.fit(data_2D, x=X, y=Y,\n",
    "                    amp_1=650, cen_1_x=600, wid_1_x=60, cen_1_y=300, wid_1_y=10,\n",
    "                    amp_2=160, cen_2_x=330, wid_2_x=40, cen_2_y=230, wid_2_y=10)   # this is the object returned by the fit operation\n",
    "\n",
    "print(result.fit_report())\n",
    "\n",
    "\n",
    "#Plot the result of the initial/best fit and comparison with the raw data\n",
    "\n",
    "fig = plt.figure()\n",
    "ax = fig.add_subplot(111, projection='3d')       \n",
    "#ax.plot_surface(X,Y, result.init_fit, color='royalblue', antialiased=False)\n",
    "ax.plot_surface(X, Y, -data_2D, color='red', antialiased=True)         # raw data\n",
    "ax.plot_surface(X, Y, result.best_fit, color='royalblue', antialiased=False)   \n",
    "\n",
    "plt.show()"
   ]
  },
  {
   "cell_type": "code",
   "execution_count": 12,
   "metadata": {},
   "outputs": [
    {
     "name": "stdout",
     "output_type": "stream",
     "text": [
      "281.8796449000023\n"
     ]
    }
   ],
   "source": [
    "# calculating the distance between the two gaussian lobes\n",
    "\n",
    "distance = sqrt( (result.params['cen_2_x'].value - result.params['cen_1_x'].value)**2 \\\n",
    "                + (result.params['cen_2_y'].value - result.params['cen_1_y'].value)**2 )\n",
    "\n",
    "print(distance)"
   ]
  }
 ],
 "metadata": {
  "kernelspec": {
   "display_name": "Python 3",
   "language": "python",
   "name": "python3"
  },
  "language_info": {
   "codemirror_mode": {
    "name": "ipython",
    "version": 3
   },
   "file_extension": ".py",
   "mimetype": "text/x-python",
   "name": "python",
   "nbconvert_exporter": "python",
   "pygments_lexer": "ipython3",
   "version": "3.8.5"
  }
 },
 "nbformat": 4,
 "nbformat_minor": 4
}
