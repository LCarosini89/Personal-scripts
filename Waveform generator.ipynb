{
 "cells": [
  {
   "cell_type": "markdown",
   "metadata": {},
   "source": [
    " # <font color='red'> Waveform generator</font>"
   ]
  },
  {
   "cell_type": "markdown",
   "metadata": {},
   "source": [
    "## Table of contents\n",
    "\n",
    "1. [Initial settings](#Settings)\n",
    "2. [Time scales definition](#Timescalesdefinition)\n",
    "3. [Pulse sequence generation](#Pulsesequence)\n",
    "    1. [Pump](#Pump)\n",
    "    2. [REEX](#REEX)\n",
    "    3. [Clock](#Clock)\n",
    "4. [Plots](#Plots)\n",
    "    1. [Pump/REEX/Clock modulation](#Plot1)\n",
    "    2. [Pulse sequence for EOM](#EOM)\n",
    "    3. [Fancy plot Pump+EOM](#Pump+EOM)\n",
    "5. [Reflectivity vs Voltage](#Reflectivity)\n",
    "6. [Conversion to csv file](#Conversion)\n",
    "    "
   ]
  },
  {
   "cell_type": "markdown",
   "metadata": {},
   "source": [
    "<a name=\"Settings\"></a>\n",
    "## Initial settings"
   ]
  },
  {
   "cell_type": "code",
   "execution_count": 1,
   "metadata": {},
   "outputs": [],
   "source": [
    "import numpy as np\n",
    "import math\n",
    "from scipy import signal\n",
    "from matplotlib import pyplot as plt"
   ]
  },
  {
   "cell_type": "code",
   "execution_count": 2,
   "metadata": {},
   "outputs": [
    {
     "name": "stdout",
     "output_type": "stream",
     "text": [
      "8000000 Hz\n",
      "800\n"
     ]
    }
   ],
   "source": [
    "# initial settings\n",
    "\n",
    "\n",
    "amp = 3.3\n",
    "offset = 0\n",
    "phase = 0\n",
    "\n",
    "t_tot = 125       # type in ns\n",
    "\n",
    "frequency = round((1/t_tot)*(1e09)) #\n",
    "print(f'{frequency} Hz')\n",
    "\n",
    "# samples = round(500000000/frequency)\n",
    "samples=800\n",
    "print(samples)"
   ]
  },
  {
   "cell_type": "code",
   "execution_count": 3,
   "metadata": {},
   "outputs": [],
   "source": [
    "# function converting time intervals --> samples\n",
    "\n",
    "def convert(val_time):\n",
    "    val_samples = (samples * val_time)/  t_tot\n",
    "    return val_samples"
   ]
  },
  {
   "cell_type": "code",
   "execution_count": 29,
   "metadata": {},
   "outputs": [],
   "source": [
    "#2D-list with initial data (necessary for the csv file)\n",
    "\n",
    "initial_list = [['data length', samples],\n",
    "              ['frequency', frequency],\n",
    "              ['amp', amp],\n",
    "              ['offset', offset],\n",
    "              ['phase', phase],\n",
    "              [None,None],\n",
    "              ['xpos','value']]"
   ]
  },
  {
   "cell_type": "markdown",
   "metadata": {},
   "source": [
    "<a name=\"Timescalesdefinition\"></a>\n",
    "## Time-scales definition"
   ]
  },
  {
   "cell_type": "code",
   "execution_count": 4,
   "metadata": {},
   "outputs": [],
   "source": [
    "pulse_duration_ns = 15    # type input in ns\n",
    "pause_duration_ns = 85    \n",
    "intro_duration = 50     \n",
    "remaining_duration = 50\n",
    "\n",
    "\n",
    "pulse_duration_samples = round(convert(pulse_duration_ns))\n",
    "pause_duration_samples = round(convert(pause_duration_ns)) \n",
    "intro_duration_samples = round(convert(intro_duration))\n",
    "remaining_duration_samples = round(convert(remaining_duration))\n",
    "\n",
    "\n",
    " \n",
    "t_samples = np.linspace(1, samples, samples, endpoint=False)\n",
    "\n",
    "\n",
    "pulse_time_samples = np.linspace(0, 2 * np.pi, pulse_duration_samples+1, endpoint=False) # \"internal\" time within a pulse\n",
    " \n",
    "\n",
    "pause_time_samples = np.linspace(0, 2 * np.pi, pause_duration_samples+1, endpoint=False)   # \"internal\" time within a pause\n",
    "\n",
    "\n",
    "intro_time_samples = np.linspace(0, 2 * np.pi, intro_duration_samples+1, endpoint=False)  # \"internal\" time within the intro\n",
    "\n",
    "\n",
    "remaining_time_samples = np.linspace(0, 2 * np.pi, remaining_duration_samples+1, endpoint=False)  # \"internal\" time until the end\n"
   ]
  },
  {
   "cell_type": "code",
   "execution_count": null,
   "metadata": {},
   "outputs": [],
   "source": [
    "# t_ns = np.linspace(1, t_tot, t_tot, endpoint=False)\n",
    "# pulse_time_ns = np.linspace(0, 2 * np.pi, pulse_duration_ns+1, endpoint=False)\n",
    "# pause_time_ns = np.linspace(0, 2 * np.pi, pause_duration_ns+1, endpoint=False)\n",
    "# intro_time_ns = np.linspace(0, 2 * np.pi, intro_duration +1, endpoint=False)\n",
    "# remaining_time_ns = np.linspace(0, 2 * np.pi, remaining_duration +1, endpoint=False)"
   ]
  },
  {
   "cell_type": "markdown",
   "metadata": {},
   "source": [
    "<a name=\"Pulsesequence\"></a>\n",
    "## Pulse sequence generation "
   ]
  },
  {
   "cell_type": "code",
   "execution_count": 5,
   "metadata": {},
   "outputs": [
    {
     "name": "stdout",
     "output_type": "stream",
     "text": [
      "Enter the required number of modes: 6\n",
      "\n",
      "\n",
      "Enter the occupation numbers (1 or 0) of the modes, separated by space: 0 1 0 1 0 1\n"
     ]
    }
   ],
   "source": [
    "# asking the input configuration to the user\n",
    "\n",
    "m = int(input(\"Enter the required number of modes: \"))\n",
    "print(\"\\n\")\n",
    "num_list = [int(num) for num in input(\"Enter the occupation numbers (1 or 0) of the modes, separated by space: \").split()[:m]]\n",
    "input_sequence = np.array(num_list)\n",
    "\n",
    "\n",
    "\n",
    "#generating the waveform\n",
    "\n",
    "waveform_pieces = []\n",
    "\n",
    "waveform_pieces.append(signal.square(intro_time_samples, duty=0)+1) #intro  (always 0)\n",
    "\n",
    "for i in range(0,m):     # these are my m modes\n",
    "    \n",
    "    if (input_sequence[i]==1):\n",
    "        piece = np.concatenate([signal.square(pulse_time_samples, duty=0)*3.3, signal.square(pause_time_samples, duty=0)+1])\n",
    "        \n",
    "    elif (input_sequence[i]==0):\n",
    "        piece = np.concatenate([signal.square(pulse_time_samples, duty=0)+1, signal.square(pause_time_samples, duty=0)+1])\n",
    "    \n",
    "    waveform_pieces.append(piece)\n",
    "    \n",
    "waveform_pieces.append(signal.square(remaining_time_samples, duty=0)+1) #final  (always 0)\n",
    "      \n",
    "    \n",
    "waveform_samples = np.concatenate(waveform_pieces)    "
   ]
  },
  {
   "cell_type": "code",
   "execution_count": 6,
   "metadata": {},
   "outputs": [],
   "source": [
    "# generating the waveform\n",
    "\n",
    "waveform_pieces = []\n",
    "\n",
    "waveform_pieces.append(signal.square(intro_time_samples, duty=0)+1) #intro  (always 0)\n",
    "\n",
    "for i in range(0,m):     # these are my m modes\n",
    "    \n",
    "    if (input_sequence[i]==1):\n",
    "        piece = np.concatenate([signal.square(pulse_time_samples, duty=0)*(-3.3), signal.square(pause_time_samples, duty=0)+1])\n",
    "        \n",
    "    elif (input_sequence[i]==0):\n",
    "        piece = np.concatenate([signal.square(pulse_time_samples, duty=0)+1, signal.square(pause_time_samples, duty=0)+1])\n",
    "    \n",
    "    waveform_pieces.append(piece)\n",
    "    \n",
    "waveform_pieces.append(signal.square(remaining_time_samples, duty=0)+1) #final  (always 0)\n",
    "      \n",
    "    \n",
    "waveform_samples = np.concatenate(waveform_pieces)  "
   ]
  },
  {
   "cell_type": "markdown",
   "metadata": {},
   "source": [
    "<a name=\"Plots\"></a>\n",
    "## Plots"
   ]
  },
  {
   "cell_type": "markdown",
   "metadata": {},
   "source": [
    "<a name=\"Plot1\"></a>\n",
    "### Pump/ REEX/ Clock"
   ]
  },
  {
   "cell_type": "code",
   "execution_count": 10,
   "metadata": {
    "scrolled": true
   },
   "outputs": [
    {
     "data": {
      "image/png": "[encoded data removed]",
      "text/plain": [
       "<Figure size 720x288 with 1 Axes>"
      ]
     },
     "metadata": {
      "needs_background": "light"
     },
     "output_type": "display_data"
    }
   ],
   "source": [
    "import matplotlib.ticker as ticker\n",
    "\n",
    "plt.figure(figsize=(10,4))\n",
    "plt.plot(waveform_samples,'red')\n",
    "\n",
    "#plt.grid()\n",
    "plt.xlabel('Time (samples)')\n",
    "plt.ylabel('Amplitude (V)')\n",
    "plt.title('Pump modulation')\n",
    "#plt.axis([25000, 30000 , -1, 1]) # [xstart, xend, ystart, yend]\n",
    "plt.savefig(\"Waveform pump.pdf\",  dpi=70)\n",
    "plt.show() "
   ]
  },
  {
   "cell_type": "markdown",
   "metadata": {},
   "source": [
    "<a name=\"EOM\"></a>\n",
    "## Pulse sequence for EOM"
   ]
  },
  {
   "cell_type": "code",
   "execution_count": 9,
   "metadata": {
    "scrolled": true
   },
   "outputs": [
    {
     "name": "stderr",
     "output_type": "stream",
     "text": [
      "<ipython-input-9-c5773e76ae81>:36: MatplotlibDeprecationWarning: savefig() got unexpected keyword argument \"trasparency\" which is no longer supported as of 3.3 and will become an error two minor releases later\n",
      "  plt.savefig(\"Waveform EOM.pdf\", trasparency=True, dpi=70)\n"
     ]
    },
    {
     "data": {
      "image/png": "[encoded data removed]",
      "text/plain": [
       "<Figure size 720x288 with 1 Axes>"
      ]
     },
     "metadata": {
      "needs_background": "light"
     },
     "output_type": "display_data"
    }
   ],
   "source": [
    "import matplotlib.ticker as ticker\n",
    "\n",
    "\n",
    "\n",
    "\n",
    "x = np.arange(0,9)*100\n",
    "\n",
    "y = np.array([\n",
    "0,\n",
    "1,\n",
    "-0.16,\n",
    "0.28,\n",
    "-0.35,\n",
    "0.19,\n",
    "-0.36,\n",
    "1,\n",
    "0])\n",
    "\n",
    "# y = np.array([0, 0, 0, -1, -0.02, 0.38, 0.65, 1, 1, 1, 0.15, -1, 0, 0, 0, 0])   #thermalization\n",
    "\n",
    "# y = np.array([0, 0, -1, -0.27, 0, 0.16, 0.29, 0.38, -1, 0])  #optimized\n",
    "\n",
    "# y = np.array([0, 0, 0, -1, -1, -1, -1, -1, -1, -1, -1, -1, -1,  -1, 0, 0, 0])  #constant\n",
    "\n",
    "# y = np.array([0, -1, 0.07, -1, 0])  # Hong Ou Mandel\n",
    "\n",
    "plt.figure(figsize=(10,4))\n",
    "\n",
    "plt.plot(x,y, color='black')\n",
    "\n",
    "#plt.grid()\n",
    "plt.xlabel('Time (ns)')\n",
    "plt.ylabel('Amplitude (V)')\n",
    "plt.title('EOM pulse sequence')\n",
    "#plt.axis([25000, 30000 , -1, 1]) # [xstart, xend, ystart, yend]\n",
    "plt.savefig(\"Waveform EOM.pdf\", trasparency=True, dpi=70)\n",
    "plt.show() "
   ]
  },
  {
   "cell_type": "code",
   "execution_count": 46,
   "metadata": {},
   "outputs": [],
   "source": [
    "import csv\n",
    "\n",
    "lista_2d_numbers = list(zip(t_samples, waveform_samples))\n",
    "\n",
    "lista_2d = initial_list + lista_2d_numbers\n",
    "\n",
    "#print(lista2d)\n",
    "\n",
    "file = open('waveform_1.csv', 'w+', newline ='') \n",
    "with file:     \n",
    "    write = csv.writer(file) \n",
    "    write.writerows(lista_2d)"
   ]
  },
  {
   "cell_type": "markdown",
   "metadata": {},
   "source": [
    "## Conversion to txt file"
   ]
  },
  {
   "cell_type": "code",
   "execution_count": 29,
   "metadata": {},
   "outputs": [
    {
     "name": "stdout",
     "output_type": "stream",
     "text": [
      "File created\n"
     ]
    }
   ],
   "source": [
    "with open('EOMwave.txt', 'w') as EOMwave:   \n",
    "    for numero in y:\n",
    "        EOMwave.write(str(numero) + '\\n')\n",
    "    print('File created')"
   ]
  },
  {
   "cell_type": "code",
   "execution_count": null,
   "metadata": {},
   "outputs": [],
   "source": []
  }
 ],
 "metadata": {
  "kernelspec": {
   "display_name": "Python 3",
   "language": "python",
   "name": "python3"
  },
  "language_info": {
   "codemirror_mode": {
    "name": "ipython",
    "version": 3
   },
   "file_extension": ".py",
   "mimetype": "text/x-python",
   "name": "python",
   "nbconvert_exporter": "python",
   "pygments_lexer": "ipython3",
   "version": "3.8.5"
  }
 },
 "nbformat": 4,
 "nbformat_minor": 4
}
