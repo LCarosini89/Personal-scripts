{
 "cells": [
  {
   "cell_type": "markdown",
   "metadata": {},
   "source": [
    "## Montecarlo for errors"
   ]
  },
  {
   "cell_type": "code",
   "execution_count": 1,
   "metadata": {},
   "outputs": [],
   "source": [
    "import numpy as np\n",
    "import matplotlib.pyplot as plt\n",
    "import matplotlib as mpl\n",
    "import matplotlib.ticker as mticker\n",
    "import pandas as pd\n",
    "import itertools\n",
    "import csv\n",
    "import os\n",
    "import glob\n",
    "import math\n",
    "import random\n",
    "import scipy\n",
    "from operator import add\n",
    "from scipy import stats\n",
    "from numpy import pi,sqrt,exp"
   ]
  },
  {
   "cell_type": "code",
   "execution_count": 142,
   "metadata": {},
   "outputs": [
    {
     "name": "stdout",
     "output_type": "stream",
     "text": [
      "252\n",
      "[992, 976, 968, 964, 962, 961, 944, 936, 932, 930, 929, 920, 916, 914, 913, 908, 906, 905, 902, 901, 899, 880, 872, 868, 866, 865, 856, 852, 850, 849, 844, 842, 841, 838, 837, 835, 824, 820, 818, 817, 812, 810, 809, 806, 805, 803, 796, 794, 793, 790, 789, 787, 782, 781, 779, 775, 752, 744, 740, 738, 737, 728, 724, 722, 721, 716, 714, 713, 710, 709, 707, 696, 692, 690, 689, 684, 682, 681, 678, 677, 675, 668, 666, 665, 662, 661, 659, 654, 653, 651, 647, 632, 628, 626, 625, 620, 618, 617, 614, 613, 611, 604, 602, 601, 598, 597, 595, 590, 589, 587, 583, 572, 570, 569, 566, 565, 563, 558, 557, 555, 551, 542, 541, 539, 535, 527, 496, 488, 484, 482, 481, 472, 468, 466, 465, 460, 458, 457, 454, 453, 451, 440, 436, 434, 433, 428, 426, 425, 422, 421, 419, 412, 410, 409, 406, 405, 403, 398, 397, 395, 391, 376, 372, 370, 369, 364, 362, 361, 358, 357, 355, 348, 346, 345, 342, 341, 339, 334, 333, 331, 327, 316, 314, 313, 310, 309, 307, 302, 301, 299, 295, 286, 285, 283, 279, 271, 248, 244, 242, 241, 236, 234, 233, 230, 229, 227, 220, 218, 217, 214, 213, 211, 206, 205, 203, 199, 188, 186, 185, 182, 181, 179, 174, 173, 171, 167, 158, 157, 155, 151, 143, 124, 122, 121, 118, 117, 115, 110, 109, 107, 103, 94, 93, 91, 87, 79, 62, 61, 59, 55, 47, 31]\n"
     ]
    }
   ],
   "source": [
    "# genero tutte le combo con itertools\n",
    "\n",
    "n=5 \n",
    "m=10\n",
    "N = math.comb(m,n)   #coefficiente binomiale di m ed n\n",
    "print(N)\n",
    "\n",
    "combos_indexes = range(1,m+1)\n",
    "combos = list(itertools.combinations(combos_indexes,n)) \n",
    "\n",
    "# converto ciascuna combo in una lista di 1 e 0 e poi nel corrispondente intero\n",
    "\n",
    "integer_combos = []\n",
    "\n",
    "for combo in combos:          # ho fatto un casino (verificare)\n",
    "    temp1= [0] * m\n",
    "    \n",
    "    for j in combo:        \n",
    "        temp1[j-1]=1\n",
    "        \n",
    "    temp2_combo=(temp1)  \n",
    "    temp3_combo= (bin(int(''.join(map(str, temp2_combo)), 2)))\n",
    "    integer_combos.append(int(temp3_combo,2)) \n",
    "\n",
    "print(integer_combos)"
   ]
  },
  {
   "cell_type": "code",
   "execution_count": 143,
   "metadata": {},
   "outputs": [
    {
     "name": "stdout",
     "output_type": "stream",
     "text": [
      "Total n-folds =  9814\n",
      "252\n"
     ]
    },
    {
     "name": "stderr",
     "output_type": "stream",
     "text": [
      "<ipython-input-143-ef36b2c541c9>:88: RuntimeWarning: invalid value encountered in true_divide\n",
      "  ratios = nfolds_errors/nfolds_final_array\n"
     ]
    }
   ],
   "source": [
    "#list all csv files in the directory\n",
    "\n",
    "csv_files = glob.glob('*.{}'.format('csv'))\n",
    "\n",
    "nfolds_final= [0]*N                       # inizializzo la lista finale delle coincidenze n-fold \n",
    "\n",
    "\n",
    "\n",
    "#loop over the csv files\n",
    "\n",
    "for file in csv_files:\n",
    "    \n",
    "\n",
    "    with open(file, newline='') as f:\n",
    "#         next(f)\n",
    "        r = csv.reader(f)\n",
    "        data = [line for line in r]\n",
    "\n",
    "    new_data = []\n",
    "\n",
    "    for row in data:                       # converto le stringhe del file in liste di interi\n",
    "        innerlist = []\n",
    "        for j in row:\n",
    "            innerlist.append(int(j))\n",
    "        new_data.append(innerlist)\n",
    "\n",
    "    \n",
    "\n",
    "    temp=[]                                #    Tolgo le coincidenze (prima colonna) e\n",
    "                                           #   rimango con una lista di 1 e 0 che converto in \n",
    "                                           #   un numero binario.\n",
    "    for new_row in new_data:\n",
    "        tempin=[]        \n",
    "        tempin.append(new_row[0])\n",
    "        new_row.pop(0)\n",
    "        tempin.append(int(bin(int(''.join(map(str,new_row)), 2)),2))\n",
    "        temp.append(tempin)\n",
    "\n",
    "    \n",
    "\n",
    "    data_dict={}                            #    Tolgo le coincidenze (prima colonna) e\n",
    "                                            #   rimango con una lista di 1 e 0 che converto in \n",
    "                                            #   un numero binario.\n",
    "    for item in temp:\n",
    "        key, value = item[1], item[0]\n",
    "        data_dict[key] = value\n",
    "       \n",
    "    \n",
    "  \n",
    "    \n",
    "    nfolds=[]                               #    Scrivo la lista delle coincidenze riordinando le chiavi \n",
    "                                            #    in accordo con integer_combos e prendendo i valori\n",
    "                                            #     corrispondenti\n",
    " \n",
    "    for integer_combo in integer_combos:\n",
    "        if integer_combo in list(data_dict.keys()):\n",
    "            nfolds.append(data_dict[integer_combo])\n",
    "        else:                                            # Quando una chiave/combo non c'è nel file, il \n",
    "                                                         # corrispondente valore viene posto a zero.\n",
    "            nfolds.append(0)\n",
    "            \n",
    "            \n",
    "        \n",
    "# ad ogni loop aggiungo la lista di coincidenze provenienti dal file in esame  \n",
    "\n",
    "    nfolds_final = list( map(add, nfolds_final, nfolds) )\n",
    "\n",
    "nfolds_final_array = np.array(nfolds_final)\n",
    "\n",
    "nfolds_errors = np.sqrt(nfolds_final_array)\n",
    "\n",
    "\n",
    "\n",
    "    \n",
    "    \n",
    "#totale delle coincidenze rivelate\n",
    "\n",
    "\n",
    "total_nfolds= sum(nfolds_final)\n",
    "total_nfolds_error = np.sqrt(total_nfolds)\n",
    "\n",
    "print (\"Total n-folds = \", total_nfolds)\n",
    "\n",
    "\n",
    "# frequenze relative\n",
    "\n",
    "frequencies = nfolds_final_array/total_nfolds\n",
    "ratios = nfolds_errors/nfolds_final_array\n",
    "\n",
    "where_are_NaNs = np.isnan(ratios)\n",
    "ratios[where_are_NaNs] = 0\n",
    "\n",
    "frequencies_errors = frequencies*( (ratios) + (total_nfolds_error/total_nfolds) )\n",
    "\n",
    "print(len(frequencies_errors))"
   ]
  },
  {
   "cell_type": "code",
   "execution_count": 144,
   "metadata": {},
   "outputs": [],
   "source": [
    "# funzione che calcola la fidelity tra due distribuzioni\n",
    "\n",
    "def fidelity(p_teo, p_exp):\n",
    "    sqrt_prod = []\n",
    "    for i in range(N):\n",
    "        prd_i = ((p_teo[i])*(p_exp[i]))\n",
    "        sqrt_prod.append(math.sqrt(prd_i))\n",
    "    F= sum(sqrt_prod)\n",
    "    return F"
   ]
  },
  {
   "cell_type": "code",
   "execution_count": 145,
   "metadata": {},
   "outputs": [
    {
     "name": "stdout",
     "output_type": "stream",
     "text": [
      "0.43863181167554566\n"
     ]
    }
   ],
   "source": [
    "# importo le simulazioni (solo caso indist.)\n",
    "\n",
    "file = open(r\"C:\\\\Users\\\\PC\\Desktop\\\\Ph.D\\\\Loop experiment\\\\Simulations\\\\5-in-10-0.15-loss-lori-pattern.csv\", 'r')\n",
    "file_string = np.array([row.strip().split('\\t') for row in file][0:], dtype=float)\n",
    "p = np.array(file_string[:, 0])\n",
    "G_indist=np.sum(p)\n",
    "p_indist= p/G_indist\n",
    "print(G_indist)"
   ]
  },
  {
   "cell_type": "code",
   "execution_count": 146,
   "metadata": {},
   "outputs": [
    {
     "name": "stdout",
     "output_type": "stream",
     "text": [
      "0.9387091231019019\n"
     ]
    }
   ],
   "source": [
    "print(fidelity(frequencies,p_indist))"
   ]
  },
  {
   "cell_type": "code",
   "execution_count": 147,
   "metadata": {},
   "outputs": [],
   "source": [
    "# simulazione vera e propria\n",
    "\n",
    "num_simulations = 10000\n",
    "\n",
    "fidelities = []\n",
    "\n",
    "for i in range(num_simulations):\n",
    "\n",
    "    random_values = []\n",
    "    \n",
    "    for j in range(len(frequencies)):\n",
    "        temp = random.gauss(frequencies[j], frequencies_errors[j])\n",
    "        if temp<0:\n",
    "            temp=0\n",
    "        random_values.append(temp)\n",
    "        random_values_array = np.array(random_values) \n",
    "\n",
    "    fidelities.append(fidelity(p_indist, random_values_array))"
   ]
  },
  {
   "cell_type": "code",
   "execution_count": 148,
   "metadata": {},
   "outputs": [
    {
     "name": "stdout",
     "output_type": "stream",
     "text": [
      "0.005836279907747944\n"
     ]
    }
   ],
   "source": [
    "# calcolo varianza ed errore statistico\n",
    "\n",
    "var = np.var(fidelities, ddof=1)\n",
    "stat_err = np.sqrt(var)/np.sqrt(num_simulations)\n",
    "print(np.sqrt(var))"
   ]
  },
  {
   "cell_type": "code",
   "execution_count": null,
   "metadata": {},
   "outputs": [],
   "source": []
  }
 ],
 "metadata": {
  "kernelspec": {
   "display_name": "Python 3",
   "language": "python",
   "name": "python3"
  },
  "language_info": {
   "codemirror_mode": {
    "name": "ipython",
    "version": 3
   },
   "file_extension": ".py",
   "mimetype": "text/x-python",
   "name": "python",
   "nbconvert_exporter": "python",
   "pygments_lexer": "ipython3",
   "version": "3.8.5"
  }
 },
 "nbformat": 4,
 "nbformat_minor": 4
}
